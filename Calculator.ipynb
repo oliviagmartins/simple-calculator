{
  "nbformat": 4,
  "nbformat_minor": 0,
  "metadata": {
    "colab": {
      "provenance": []
    },
    "kernelspec": {
      "name": "python3",
      "display_name": "Python 3"
    },
    "language_info": {
      "name": "python"
    }
  },
  "cells": [
    {
      "cell_type": "code",
      "execution_count": 8,
      "metadata": {
        "colab": {
          "base_uri": "https://localhost:8080/"
        },
        "id": "IOOWzrKr1Hkj",
        "outputId": "66512df3-f578-47e4-c1c0-9106063779fb"
      },
      "outputs": [
        {
          "output_type": "stream",
          "name": "stdout",
          "text": [
            "----- Simple python calculator -----\n",
            "This calculator can perform the following operations: addition (+), subtraction (-), multiplication (*) and division (/).\n",
            "To use it, simply input a number, followed by the operation and then another number.\n",
            "Type in a number: 12\n",
            "Which operation would you like to perform? +\n",
            "Type in a number: 4\n",
            "12.0 + 4.0 = 16.00\n"
          ]
        }
      ],
      "source": [
        "print('----- Simple python calculator -----')\n",
        "print('This calculator can perform the following operations: addition (+), subtraction (-), multiplication (*) and division (/).')\n",
        "print('To use it, simply input a number, followed by the operation and then another number.')\n",
        "\n",
        "try:\n",
        "    Num1 = float(input('Type in a number: '))\n",
        "    operacao = input('Which operation would you like to perform? ')\n",
        "    Num2 = float(input('Type in a number: '))\n",
        "\n",
        "    addition = '+'\n",
        "    subtraction = '-'\n",
        "    multiplication = '*'\n",
        "    division = '/'\n",
        "\n",
        "    if operacao == addition:\n",
        "        print('{} {} {} = {:.2f}'.format(Num1, operacao, Num2, (Num1 + Num2)))\n",
        "    elif operacao == subtraction:\n",
        "        print('{} {} {} = {:.2f}'.format(Num1, operacao, Num2, (Num1 - Num2)))\n",
        "    elif operacao == multiplication:\n",
        "        print('{} {} {} = {:.2f}'.format(Num1, operacao, Num2, (Num1 * Num2)))\n",
        "    elif operacao == division:\n",
        "        if Num2 != 0:  # Check for division by zero\n",
        "            print('{} {} {} = {:.2f}'.format(Num1, operacao, Num2, (Num1 / Num2)))\n",
        "        else:\n",
        "            print('Error: Division by zero is not allowed.')\n",
        "    else:\n",
        "        print('Error: Invalid operation. Please use +, -, *, or / for the operation.')\n",
        "\n",
        "except ValueError:\n",
        "    print('Error: Invalid input. Please enter valid numbers.')"
      ]
    }
  ]
}